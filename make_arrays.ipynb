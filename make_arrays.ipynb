{
 "cells": [
  {
   "cell_type": "markdown",
   "metadata": {},
   "source": [
    "# Preparation of runs for plotting programs \n",
    "\n",
    "In this notebook, cuts are applied to the saved classifier scores from ```run_pipeline.py```. The resulting numbers are then saved in dictionaries of numpy arrays, making the data easily readable as well as allowing for easy modifications of the precise calculation of significances without repeating redundant calculations."
   ]
  },
  {
   "cell_type": "code",
   "execution_count": 1,
   "metadata": {},
   "outputs": [],
   "source": [
    "import numpy as np\n",
    "import make_arrays_utils as make"
   ]
  },
  {
   "cell_type": "code",
   "execution_count": 2,
   "metadata": {},
   "outputs": [],
   "source": [
    "general_directory = \"/hpcwork/zu992399/bumphunt_paper/\"\n",
    "general_directory_project = \"/work/rwth0934/bumphunt_paper/\"\n",
    "general_directory_work = \"/work/zu992399/bumphunt_paper/\""
   ]
  },
  {
   "cell_type": "markdown",
   "metadata": {},
   "source": [
    "# For Significance calculations"
   ]
  },
  {
   "cell_type": "markdown",
   "metadata": {},
   "source": [
    "## IAD"
   ]
  },
  {
   "cell_type": "code",
   "execution_count": 6,
   "metadata": {},
   "outputs": [
    {
     "name": "stdout",
     "output_type": "stream",
     "text": [
      "/work/rwth0934/bumphunt_paper/IAD_without_joep/\n",
      "/work/rwth0934/bumphunt_paper/IAD_norm_joep/\n",
      "/work/rwth0934/bumphunt_paper/IAD_without_DR_joep/\n",
      "/work/rwth0934/bumphunt_paper/IAD_norm_DR_joep/\n"
     ]
    }
   ],
   "source": [
    "IAD = [general_directory_project+\"IAD_without_joep/\", general_directory_project+\"IAD_norm_joep/\", general_directory_project+\"IAD_without_DR_joep/\", general_directory_project+\"IAD_norm_DR_joep/\"]\n",
    "for f in IAD:\n",
    "    make.bump_hunt(f)"
   ]
  },
  {
   "cell_type": "markdown",
   "metadata": {},
   "source": [
    "## CWoLa"
   ]
  },
  {
   "cell_type": "code",
   "execution_count": null,
   "metadata": {},
   "outputs": [
    {
     "name": "stdout",
     "output_type": "stream",
     "text": [
      "/hpcwork/zu992399/bumphunt_paper/cwola_herwig_without_2/\n",
      "/hpcwork/zu992399/bumphunt_paper/cwola_without/\n",
      "/hpcwork/zu992399/bumphunt_paper/cwola_norm/\n"
     ]
    }
   ],
   "source": [
    "cwola_baseline = [general_directory+\"cwola_herwig_without_2/\", general_directory+\"cwola_without/\", general_directory+\"cwola_norm/\"]\n",
    "for f in cwola_baseline:\n",
    "    make.bump_hunt(f)"
   ]
  },
  {
   "cell_type": "code",
   "execution_count": null,
   "metadata": {},
   "outputs": [
    {
     "name": "stdout",
     "output_type": "stream",
     "text": [
      "/hpcwork/zu992399/bumphunt_paper/cwola_herwig_DR_without_new/\n",
      "/hpcwork/zu992399/bumphunt_paper/cwola_baseline_DR_without_new/\n",
      "/hpcwork/zu992399/bumphunt_paper/cwola_baseline_DR_norm_new/\n"
     ]
    }
   ],
   "source": [
    "cwola_DR = [general_directory+\"cwola_herwig_DR_without_new/\", general_directory+\"cwola_baseline_DR_without_new/\", general_directory+\"cwola_baseline_DR_norm_new/\"]\n",
    "for f in cwola_DR:\n",
    "    make.bump_hunt(f)"
   ]
  },
  {
   "cell_type": "markdown",
   "metadata": {},
   "source": [
    "## CATHODE"
   ]
  },
  {
   "cell_type": "code",
   "execution_count": null,
   "metadata": {},
   "outputs": [
    {
     "name": "stdout",
     "output_type": "stream",
     "text": [
      "/hpcwork/zu992399/bumphunt_paper/cathode_without_Herwig_ranit_rand/\n",
      "/work/rwth0934/bumphunt_paper/cathode_without_SB_stats_ranit_rand/\n",
      "/work/rwth0934/bumphunt_paper/cathode_without_ranit_rand/\n"
     ]
    }
   ],
   "source": [
    "cathode_baseline_without = [general_directory+\"cathode_without_Herwig_ranit_rand/\", general_directory_project+\"cathode_without_SB_stats_ranit_rand/\", general_directory_project+\"cathode_without_ranit_rand/\"]\n",
    "for f in cathode_baseline_without:\n",
    "    make.bump_hunt(f)"
   ]
  },
  {
   "cell_type": "code",
   "execution_count": null,
   "metadata": {},
   "outputs": [
    {
     "name": "stdout",
     "output_type": "stream",
     "text": [
      "/work/rwth0934/bumphunt_paper/cathode_norm_SB_stats_ranit_rand/\n",
      "/work/rwth0934/bumphunt_paper/cathode_norm_ranit_rand/\n"
     ]
    }
   ],
   "source": [
    "cathode_baseline_norm = [general_directory_project+\"cathode_norm_SB_stats_ranit_rand/\", general_directory_project+\"cathode_norm_ranit_rand/\"]\n",
    "for f in cathode_baseline_norm:\n",
    "    make.bump_hunt(f)"
   ]
  },
  {
   "cell_type": "code",
   "execution_count": null,
   "metadata": {},
   "outputs": [
    {
     "name": "stdout",
     "output_type": "stream",
     "text": [
      "/hpcwork/zu992399/bumphunt_paper/cathode_without_DR_Herwig_ranit_rand/\n",
      "/work/rwth0934/bumphunt_paper/cathode_without_DR_SB_stats_ranit_rand/\n",
      "/work/rwth0934/bumphunt_paper/cathode_without_DR_ranit_rand/\n"
     ]
    }
   ],
   "source": [
    "cathode_DR_without = [general_directory+\"cathode_without_DR_Herwig_ranit_rand/\", general_directory_project+\"cathode_without_DR_SB_stats_ranit_rand/\", general_directory_project+\"cathode_without_DR_ranit_rand/\"]\n",
    "for f in cathode_DR_without:\n",
    "    make.bump_hunt(f)"
   ]
  },
  {
   "cell_type": "code",
   "execution_count": null,
   "metadata": {},
   "outputs": [
    {
     "name": "stdout",
     "output_type": "stream",
     "text": [
      "/work/zu992399/bumphunt_paper/cathode_norm_DR_SB_stats_ranit_rand/\n",
      "/work/zu992399/bumphunt_paper/cathode_norm_DR_ranit_rand/\n"
     ]
    }
   ],
   "source": [
    "cathode_DR_norm = [general_directory_work+\"cathode_norm_DR_SB_stats_ranit_rand/\", general_directory_work+\"cathode_norm_DR_ranit_rand/\"]\n",
    "for f in cathode_DR_norm:\n",
    "    make.bump_hunt(f)"
   ]
  },
  {
   "cell_type": "markdown",
   "metadata": {},
   "source": [
    "# For $R_\\text{sys}$ calculations"
   ]
  },
  {
   "cell_type": "code",
   "execution_count": 3,
   "metadata": {},
   "outputs": [],
   "source": [
    "perc = np.logspace(-4, -1, 100)"
   ]
  },
  {
   "cell_type": "code",
   "execution_count": 4,
   "metadata": {},
   "outputs": [
    {
     "name": "stdout",
     "output_type": "stream",
     "text": [
      "/hpcwork/zu992399/bumphunt_paper/cwola_herwig_without_2/\n"
     ]
    },
    {
     "name": "stderr",
     "output_type": "stream",
     "text": [
      "  0%|          | 0/9 [00:00<?, ?it/s]"
     ]
    },
    {
     "name": "stderr",
     "output_type": "stream",
     "text": [
      "100%|██████████| 9/9 [00:18<00:00,  2.10s/it]\n"
     ]
    },
    {
     "name": "stdout",
     "output_type": "stream",
     "text": [
      "/hpcwork/zu992399/bumphunt_paper/cwola_without/\n"
     ]
    },
    {
     "name": "stderr",
     "output_type": "stream",
     "text": [
      "100%|██████████| 9/9 [00:17<00:00,  1.92s/it]\n"
     ]
    },
    {
     "name": "stdout",
     "output_type": "stream",
     "text": [
      "/hpcwork/zu992399/bumphunt_paper/cwola_herwig_DR_without_new/\n"
     ]
    },
    {
     "name": "stderr",
     "output_type": "stream",
     "text": [
      "100%|██████████| 9/9 [00:18<00:00,  2.11s/it]\n"
     ]
    },
    {
     "name": "stdout",
     "output_type": "stream",
     "text": [
      "/hpcwork/zu992399/bumphunt_paper/cwola_baseline_DR_without_new/\n"
     ]
    },
    {
     "name": "stderr",
     "output_type": "stream",
     "text": [
      "100%|██████████| 9/9 [00:17<00:00,  1.89s/it]\n"
     ]
    }
   ],
   "source": [
    "cwola = [general_directory+\"cwola_herwig_without_2/\", general_directory+\"cwola_without/\", general_directory+\"cwola_herwig_DR_without_new/\", general_directory+\"cwola_baseline_DR_without_new/\"]\n",
    "for f in cwola:\n",
    "    make.deltasys(f, perc)"
   ]
  },
  {
   "cell_type": "code",
   "execution_count": 5,
   "metadata": {},
   "outputs": [
    {
     "name": "stdout",
     "output_type": "stream",
     "text": [
      "/hpcwork/zu992399/bumphunt_paper/cathode_without_Herwig_ranit_rand/\n"
     ]
    },
    {
     "name": "stderr",
     "output_type": "stream",
     "text": [
      "100%|██████████| 9/9 [10:56<00:00, 72.92s/it]\n"
     ]
    },
    {
     "name": "stdout",
     "output_type": "stream",
     "text": [
      "/work/rwth0934/bumphunt_paper/cathode_without_SB_stats_ranit_rand/\n"
     ]
    },
    {
     "name": "stderr",
     "output_type": "stream",
     "text": [
      "100%|██████████| 9/9 [10:23<00:00, 69.31s/it]\n"
     ]
    },
    {
     "name": "stdout",
     "output_type": "stream",
     "text": [
      "/work/rwth0934/bumphunt_paper/cathode_without_ranit_rand/\n"
     ]
    },
    {
     "name": "stderr",
     "output_type": "stream",
     "text": [
      " 89%|████████▉ | 8/9 [09:00<01:13, 73.33s/it]"
     ]
    },
    {
     "ename": "",
     "evalue": "",
     "output_type": "error",
     "traceback": [
      "\u001b[1;31mThe Kernel crashed while executing code in the current cell or a previous cell. \n",
      "\u001b[1;31mPlease review the code in the cell(s) to identify a possible cause of the failure. \n",
      "\u001b[1;31mClick <a href='https://aka.ms/vscodeJupyterKernelCrash'>here</a> for more info. \n",
      "\u001b[1;31mView Jupyter <a href='command:jupyter.viewOutput'>log</a> for further details."
     ]
    }
   ],
   "source": [
    "cathode_baseline = [general_directory+\"cathode_without_Herwig_ranit_rand/\", general_directory_project+\"cathode_without_SB_stats_ranit_rand/\"]\n",
    "for f in cathode_baseline:\n",
    "    make.deltasys(f, perc)"
   ]
  },
  {
   "cell_type": "code",
   "execution_count": 4,
   "metadata": {},
   "outputs": [
    {
     "name": "stdout",
     "output_type": "stream",
     "text": [
      "/work/rwth0934/bumphunt_paper/cathode_without_ranit_rand/\n"
     ]
    },
    {
     "name": "stderr",
     "output_type": "stream",
     "text": [
      "100%|██████████| 9/9 [10:20<00:00, 68.95s/it]\n"
     ]
    },
    {
     "name": "stdout",
     "output_type": "stream",
     "text": [
      "/work/rwth0934/bumphunt_paper/cathode_norm_SB_stats_ranit_rand/\n"
     ]
    },
    {
     "name": "stderr",
     "output_type": "stream",
     "text": [
      "100%|██████████| 9/9 [10:42<00:00, 71.42s/it]\n"
     ]
    }
   ],
   "source": [
    "cathode_baseline = [general_directory_project+\"cathode_without_ranit_rand/\", general_directory_project+\"cathode_norm_SB_stats_ranit_rand/\"]\n",
    "for f in cathode_baseline:\n",
    "    make.deltasys(f, perc)"
   ]
  },
  {
   "cell_type": "code",
   "execution_count": 5,
   "metadata": {},
   "outputs": [
    {
     "name": "stdout",
     "output_type": "stream",
     "text": [
      "/hpcwork/zu992399/bumphunt_paper/cathode_without_DR_Herwig_ranit_rand/\n"
     ]
    },
    {
     "name": "stderr",
     "output_type": "stream",
     "text": [
      "100%|██████████| 9/9 [10:48<00:00, 72.05s/it]\n"
     ]
    },
    {
     "name": "stdout",
     "output_type": "stream",
     "text": [
      "/work/rwth0934/bumphunt_paper/cathode_without_DR_SB_stats_ranit_rand/\n"
     ]
    },
    {
     "name": "stderr",
     "output_type": "stream",
     "text": [
      "100%|██████████| 9/9 [11:03<00:00, 73.73s/it]\n"
     ]
    },
    {
     "ename": "",
     "evalue": "",
     "output_type": "error",
     "traceback": [
      "\u001b[1;31mThe Kernel crashed while executing code in the current cell or a previous cell. \n",
      "\u001b[1;31mPlease review the code in the cell(s) to identify a possible cause of the failure. \n",
      "\u001b[1;31mClick <a href='https://aka.ms/vscodeJupyterKernelCrash'>here</a> for more info. \n",
      "\u001b[1;31mView Jupyter <a href='command:jupyter.viewOutput'>log</a> for further details."
     ]
    }
   ],
   "source": [
    "cathode_DR = [general_directory+\"cathode_without_DR_Herwig_ranit_rand/\", general_directory_project+\"cathode_without_DR_SB_stats_ranit_rand/\"]\n",
    "for f in cathode_DR:\n",
    "    make.deltasys(f, perc)"
   ]
  },
  {
   "cell_type": "code",
   "execution_count": 6,
   "metadata": {},
   "outputs": [
    {
     "name": "stdout",
     "output_type": "stream",
     "text": [
      "/work/rwth0934/bumphunt_paper/cathode_without_DR_ranit_rand/\n"
     ]
    },
    {
     "name": "stderr",
     "output_type": "stream",
     "text": [
      " 89%|████████▉ | 8/9 [10:00<01:23, 83.55s/it]"
     ]
    }
   ],
   "source": [
    "cathode_DR = [general_directory_project+\"cathode_without_DR_ranit_rand/\", general_directory_work+\"cathode_norm_DR_SB_stats_ranit_rand/\"]\n",
    "for f in cathode_DR:\n",
    "    make.deltasys(f, perc)"
   ]
  }
 ],
 "metadata": {
  "kernelspec": {
   "display_name": "cathode",
   "language": "python",
   "name": "python3"
  },
  "language_info": {
   "codemirror_mode": {
    "name": "ipython",
    "version": 3
   },
   "file_extension": ".py",
   "mimetype": "text/x-python",
   "name": "python",
   "nbconvert_exporter": "python",
   "pygments_lexer": "ipython3",
   "version": "3.8.16"
  }
 },
 "nbformat": 4,
 "nbformat_minor": 2
}
